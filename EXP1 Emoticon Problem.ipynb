{
 "cells": [
  {
   "cell_type": "code",
   "execution_count": 1,
   "id": "1f830346-cf39-4b44-8d09-9ef5aff45027",
   "metadata": {},
   "outputs": [
    {
     "name": "stdin",
     "output_type": "stream",
     "text": [
      "Enter an emotion (smile, grin, sad, mad) within a sentence:  Make me Smile\n"
     ]
    },
    {
     "name": "stdout",
     "output_type": "stream",
     "text": [
      "make me :)\n"
     ]
    }
   ],
   "source": [
    "#A program to change specific words into emoticons\n",
    "def emotify(sentence):\n",
    "\n",
    "#Dictionary that maps specific words into corresponding emoticons\n",
    "    emoticons_list = { 'smile': ':)', 'grin': ':D', 'sad': ':(', 'mad': '>:(', }\n",
    "\n",
    "#Replaces the words with their corresponding emoticon, even if it is within a sentence\n",
    "    for word, emoticons_list in emoticons_list.items():\n",
    "        sentence = sentence.replace(word, emoticons_list)\n",
    "\n",
    "#Returns sentence back to the caller\n",
    "    return sentence\n",
    "\n",
    "#Asks the user for input and converts the sentence into a lowercase to avoid case sensitivity in relation to the emoticon list\n",
    "userinput = input(\"Enter an emotion (smile, grin, sad, mad) within a sentence: \").lower()\n",
    "\n",
    "#Calls the function combined with the input\n",
    "sentence_output = emotify(userinput)\n",
    "\n",
    "#Prints the output\n",
    "print(sentence_output)"
   ]
  },
  {
   "cell_type": "code",
   "execution_count": null,
   "id": "83bddf95-7921-4587-a74f-680c3e00350c",
   "metadata": {},
   "outputs": [],
   "source": []
  }
 ],
 "metadata": {
  "kernelspec": {
   "display_name": "Python 3 (ipykernel)",
   "language": "python",
   "name": "python3"
  },
  "language_info": {
   "codemirror_mode": {
    "name": "ipython",
    "version": 3
   },
   "file_extension": ".py",
   "mimetype": "text/x-python",
   "name": "python",
   "nbconvert_exporter": "python",
   "pygments_lexer": "ipython3",
   "version": "3.12.4"
  }
 },
 "nbformat": 4,
 "nbformat_minor": 5
}
