{
 "cells": [
  {
   "cell_type": "code",
   "execution_count": 13,
   "id": "b6d9e6eb-60e5-4dcd-8929-3d10e165d6ff",
   "metadata": {},
   "outputs": [
    {
     "name": "stdout",
     "output_type": "stream",
     "text": [
      "first: 1, middle: [2, 3, 4, 5, 6, 7, 8, 9], last: 10\n"
     ]
    }
   ],
   "source": [
    "#List for numbers\n",
    "lst = [1, 2, 3, 4, 5, 6, 7, 8, 9, 10]\n",
    "\n",
    "#Function that unpack the list into three variables, being first, middle, and last, with middle being everything in between the first and last element.\n",
    "def unpack_list(lst):\n",
    "    \n",
    "#Puts the first element of the input list 'lst' to the variable 'first'\n",
    "    first = lst[0]\n",
    "#Puts the last element of the input list 'lst' to the variable 'last'\n",
    "    last = lst[-1]\n",
    "#Puts all elements of the input list 'lst' except the first and the last to the variable 'middle'\n",
    "    middle = lst[1:-1]\n",
    "\n",
    "#Print the results according to their assigned variables\n",
    "    print(\"first: {}, middle: {}, last: {}\".format(first, middle, last))\n",
    "\n",
    "#Calls the function\n",
    "unpack_list(lst)"
   ]
  }
 ],
 "metadata": {
  "kernelspec": {
   "display_name": "Python 3 (ipykernel)",
   "language": "python",
   "name": "python3"
  },
  "language_info": {
   "codemirror_mode": {
    "name": "ipython",
    "version": 3
   },
   "file_extension": ".py",
   "mimetype": "text/x-python",
   "name": "python",
   "nbconvert_exporter": "python",
   "pygments_lexer": "ipython3",
   "version": "3.12.4"
  }
 },
 "nbformat": 4,
 "nbformat_minor": 5
}
