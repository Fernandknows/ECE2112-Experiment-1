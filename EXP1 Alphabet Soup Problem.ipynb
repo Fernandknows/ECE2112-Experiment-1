{
 "cells": [
  {
   "cell_type": "code",
   "execution_count": 9,
   "id": "f47acec2-56e9-4a43-88bb-a788f40d2515",
   "metadata": {},
   "outputs": [
    {
     "name": "stdin",
     "output_type": "stream",
     "text": [
      "Enter a word and it will be sorted alphabetically:  Hacker\n"
     ]
    },
    {
     "name": "stdout",
     "output_type": "stream",
     "text": [
      "acehkr\n"
     ]
    }
   ],
   "source": [
    "#Program to ask the user for input, rearrange it alphabetically, and print.\n",
    "def alphabet_soup():\n",
    "\n",
    "#Asks the user for input and removes case sensitivity\n",
    "    word = input(\"Enter a word and it will be sorted alphabetically: \").lower()\n",
    "\n",
    "#Sorts and joins the word/characters into a string \n",
    "    sorted_word = ''.join(sorted(word))\n",
    "\n",
    "#Returns the sorted characters to the caller.\n",
    "    return sorted_word\n",
    "\n",
    "#Calls the defined function and then prints.\n",
    "print(alphabet_soup())"
   ]
  },
  {
   "cell_type": "code",
   "execution_count": null,
   "id": "f5ed591f-56fb-43c9-9fa1-dc0484a52ec4",
   "metadata": {},
   "outputs": [],
   "source": []
  }
 ],
 "metadata": {
  "kernelspec": {
   "display_name": "Python 3 (ipykernel)",
   "language": "python",
   "name": "python3"
  },
  "language_info": {
   "codemirror_mode": {
    "name": "ipython",
    "version": 3
   },
   "file_extension": ".py",
   "mimetype": "text/x-python",
   "name": "python",
   "nbconvert_exporter": "python",
   "pygments_lexer": "ipython3",
   "version": "3.12.4"
  }
 },
 "nbformat": 4,
 "nbformat_minor": 5
}
